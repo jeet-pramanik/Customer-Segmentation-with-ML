{
 "cells": [
  {
   "cell_type": "markdown",
   "id": "f2e44ca5",
   "metadata": {},
   "source": [
    "# Customer Segmentation - Data Generation & Exploration\n",
    "## Phase 1: Data Acquisition and Understanding\n",
    "\n",
    "This notebook generates synthetic customer data and performs comprehensive exploratory data analysis."
   ]
  },
  {
   "cell_type": "code",
   "execution_count": null,
   "id": "7c7b5d6f",
   "metadata": {},
   "outputs": [],
   "source": [
    "# Import libraries\n",
    "import sys\n",
    "sys.path.append('../src')\n",
    "\n",
    "import pandas as pd\n",
    "import numpy as np\n",
    "import matplotlib.pyplot as plt\n",
    "import seaborn as sns\n",
    "import warnings\n",
    "warnings.filterwarnings('ignore')\n",
    "\n",
    "from data_loader import CustomerDataLoader\n",
    "\n",
    "# Set visualization style\n",
    "sns.set_style('whitegrid')\n",
    "plt.rcParams['figure.figsize'] = (12, 6)\n",
    "\n",
    "print(\"Libraries imported successfully!\")"
   ]
  },
  {
   "cell_type": "markdown",
   "id": "fc4b21ca",
   "metadata": {},
   "source": [
    "## 1. Generate Synthetic Customer Data"
   ]
  },
  {
   "cell_type": "code",
   "execution_count": null,
   "id": "efa3c623",
   "metadata": {},
   "outputs": [],
   "source": [
    "# Initialize data loader\n",
    "loader = CustomerDataLoader(data_dir='../data')\n",
    "\n",
    "# Generate synthetic customer data\n",
    "df = loader.generate_synthetic_data(n_customers=2000, random_state=42)\n",
    "\n",
    "print(f\"\\nDataset shape: {df.shape}\")\n",
    "print(f\"Features: {df.columns.tolist()}\")"
   ]
  },
  {
   "cell_type": "code",
   "execution_count": null,
   "id": "2b34fe25",
   "metadata": {},
   "outputs": [],
   "source": [
    "# Display first few rows\n",
    "df.head(10)"
   ]
  },
  {
   "cell_type": "markdown",
   "id": "f62aa420",
   "metadata": {},
   "source": [
    "## 2. Data Understanding"
   ]
  },
  {
   "cell_type": "code",
   "execution_count": null,
   "id": "4e9341d1",
   "metadata": {},
   "outputs": [],
   "source": [
    "# Comprehensive data summary\n",
    "loader.print_data_summary(df)"
   ]
  },
  {
   "cell_type": "code",
   "execution_count": null,
   "id": "0bed6d84",
   "metadata": {},
   "outputs": [],
   "source": [
    "# Check data types\n",
    "print(\"Data Types:\")\n",
    "print(df.dtypes)"
   ]
  },
  {
   "cell_type": "code",
   "execution_count": null,
   "id": "0d52c98c",
   "metadata": {},
   "outputs": [],
   "source": [
    "# Missing values analysis\n",
    "missing = df.isnull().sum()\n",
    "missing_pct = (missing / len(df)) * 100\n",
    "\n",
    "missing_df = pd.DataFrame({\n",
    "    'Missing Count': missing,\n",
    "    'Percentage': missing_pct\n",
    "})\n",
    "\n",
    "missing_df[missing_df['Missing Count'] > 0].sort_values('Percentage', ascending=False)"
   ]
  },
  {
   "cell_type": "markdown",
   "id": "b57bfecf",
   "metadata": {},
   "source": [
    "## 3. Univariate Analysis"
   ]
  },
  {
   "cell_type": "code",
   "execution_count": null,
   "id": "ee4bd8bb",
   "metadata": {},
   "outputs": [],
   "source": [
    "# Distribution of numerical features\n",
    "numeric_cols = df.select_dtypes(include=[np.number]).columns.tolist()\n",
    "numeric_cols = [col for col in numeric_cols if 'ID' not in col.upper()]\n",
    "\n",
    "fig, axes = plt.subplots(4, 4, figsize=(18, 16))\n",
    "axes = axes.ravel()\n",
    "\n",
    "for idx, col in enumerate(numeric_cols[:16]):\n",
    "    axes[idx].hist(df[col].dropna(), bins=30, edgecolor='black', alpha=0.7)\n",
    "    axes[idx].set_title(f'Distribution of {col}', fontweight='bold')\n",
    "    axes[idx].set_xlabel(col)\n",
    "    axes[idx].set_ylabel('Frequency')\n",
    "    axes[idx].grid(True, alpha=0.3)\n",
    "\n",
    "plt.tight_layout()\n",
    "plt.savefig('../reports/figures/univariate_distributions.png', dpi=300, bbox_inches='tight')\n",
    "plt.show()"
   ]
  },
  {
   "cell_type": "code",
   "execution_count": null,
   "id": "f4efdc20",
   "metadata": {},
   "outputs": [],
   "source": [
    "# Box plots for outlier detection\n",
    "fig, axes = plt.subplots(3, 3, figsize=(16, 14))\n",
    "axes = axes.ravel()\n",
    "\n",
    "key_features = ['Age', 'Income', 'Recency', 'Frequency', 'Monetary', \n",
    "                'AvgOrderValue', 'WebsiteVisits', 'TenureDays', 'NumCategories']\n",
    "\n",
    "for idx, col in enumerate(key_features):\n",
    "    axes[idx].boxplot(df[col].dropna(), vert=True)\n",
    "    axes[idx].set_title(f'Box Plot: {col}', fontweight='bold')\n",
    "    axes[idx].set_ylabel(col)\n",
    "    axes[idx].grid(True, alpha=0.3)\n",
    "\n",
    "plt.tight_layout()\n",
    "plt.savefig('../reports/figures/boxplots_outliers.png', dpi=300, bbox_inches='tight')\n",
    "plt.show()"
   ]
  },
  {
   "cell_type": "markdown",
   "id": "0ee15b9f",
   "metadata": {},
   "source": [
    "## 4. Bivariate Analysis"
   ]
  },
  {
   "cell_type": "code",
   "execution_count": null,
   "id": "4a91723c",
   "metadata": {},
   "outputs": [],
   "source": [
    "# Correlation heatmap\n",
    "plt.figure(figsize=(14, 10))\n",
    "correlation = df[numeric_cols].corr()\n",
    "sns.heatmap(correlation, annot=True, fmt='.2f', cmap='coolwarm', center=0,\n",
    "            square=True, linewidths=1, cbar_kws={\"shrink\": 0.8})\n",
    "plt.title('Feature Correlation Heatmap', fontsize=16, fontweight='bold', pad=20)\n",
    "plt.tight_layout()\n",
    "plt.savefig('../reports/figures/correlation_heatmap.png', dpi=300, bbox_inches='tight')\n",
    "plt.show()"
   ]
  },
  {
   "cell_type": "code",
   "execution_count": null,
   "id": "e644fbc2",
   "metadata": {},
   "outputs": [],
   "source": [
    "# RFM Analysis - Scatter plots\n",
    "fig, axes = plt.subplots(1, 3, figsize=(18, 5))\n",
    "\n",
    "# Recency vs Frequency\n",
    "axes[0].scatter(df['Recency'], df['Frequency'], alpha=0.5, c='steelblue')\n",
    "axes[0].set_xlabel('Recency (days)', fontsize=12)\n",
    "axes[0].set_ylabel('Frequency (purchases)', fontsize=12)\n",
    "axes[0].set_title('Recency vs Frequency', fontweight='bold')\n",
    "axes[0].grid(True, alpha=0.3)\n",
    "\n",
    "# Frequency vs Monetary\n",
    "axes[1].scatter(df['Frequency'], df['Monetary'], alpha=0.5, c='green')\n",
    "axes[1].set_xlabel('Frequency (purchases)', fontsize=12)\n",
    "axes[1].set_ylabel('Monetary (total spending)', fontsize=12)\n",
    "axes[1].set_title('Frequency vs Monetary', fontweight='bold')\n",
    "axes[1].grid(True, alpha=0.3)\n",
    "\n",
    "# Recency vs Monetary\n",
    "axes[2].scatter(df['Recency'], df['Monetary'], alpha=0.5, c='coral')\n",
    "axes[2].set_xlabel('Recency (days)', fontsize=12)\n",
    "axes[2].set_ylabel('Monetary (total spending)', fontsize=12)\n",
    "axes[2].set_title('Recency vs Monetary', fontweight='bold')\n",
    "axes[2].grid(True, alpha=0.3)\n",
    "\n",
    "plt.tight_layout()\n",
    "plt.savefig('../reports/figures/rfm_scatter_plots.png', dpi=300, bbox_inches='tight')\n",
    "plt.show()"
   ]
  },
  {
   "cell_type": "markdown",
   "id": "b249b63a",
   "metadata": {},
   "source": [
    "## 5. Categorical Features Analysis"
   ]
  },
  {
   "cell_type": "code",
   "execution_count": null,
   "id": "389b7e94",
   "metadata": {},
   "outputs": [],
   "source": [
    "# Categorical features distribution\n",
    "cat_cols = ['Gender', 'MaritalStatus', 'Education', 'ChannelPreference', 'PaymentMethod']\n",
    "\n",
    "fig, axes = plt.subplots(2, 3, figsize=(18, 10))\n",
    "axes = axes.ravel()\n",
    "\n",
    "for idx, col in enumerate(cat_cols):\n",
    "    value_counts = df[col].value_counts()\n",
    "    axes[idx].bar(value_counts.index, value_counts.values, alpha=0.7)\n",
    "    axes[idx].set_title(f'Distribution of {col}', fontweight='bold')\n",
    "    axes[idx].set_xlabel(col)\n",
    "    axes[idx].set_ylabel('Count')\n",
    "    axes[idx].tick_params(axis='x', rotation=45)\n",
    "    axes[idx].grid(True, alpha=0.3, axis='y')\n",
    "\n",
    "# Loyalty member distribution\n",
    "loyalty_counts = df['LoyaltyMember'].value_counts()\n",
    "axes[5].pie(loyalty_counts.values, labels=loyalty_counts.index, autopct='%1.1f%%', startangle=90)\n",
    "axes[5].set_title('Loyalty Program Members', fontweight='bold')\n",
    "\n",
    "plt.tight_layout()\n",
    "plt.savefig('../reports/figures/categorical_distributions.png', dpi=300, bbox_inches='tight')\n",
    "plt.show()"
   ]
  },
  {
   "cell_type": "markdown",
   "id": "4aad4710",
   "metadata": {},
   "source": [
    "## 6. Business Insights from EDA"
   ]
  },
  {
   "cell_type": "code",
   "execution_count": null,
   "id": "122fee0e",
   "metadata": {},
   "outputs": [],
   "source": [
    "print(\"=\"*80)\n",
    "print(\"KEY BUSINESS INSIGHTS\")\n",
    "print(\"=\"*80)\n",
    "\n",
    "# Average customer value\n",
    "avg_monetary = df['Monetary'].mean()\n",
    "median_monetary = df['Monetary'].median()\n",
    "print(f\"\\nAverage Customer Value: ${avg_monetary:.2f}\")\n",
    "print(f\"Median Customer Value: ${median_monetary:.2f}\")\n",
    "\n",
    "# High-value customers (top 20%)\n",
    "threshold_80 = df['Monetary'].quantile(0.80)\n",
    "high_value_customers = df[df['Monetary'] >= threshold_80]\n",
    "print(f\"\\nHigh-Value Customers (top 20%): {len(high_value_customers)} ({len(high_value_customers)/len(df)*100:.1f}%)\")\n",
    "print(f\"  Average Spending: ${high_value_customers['Monetary'].mean():.2f}\")\n",
    "print(f\"  Total Revenue Contribution: ${high_value_customers['Monetary'].sum():.2f}\")\n",
    "print(f\"  Revenue Contribution %: {high_value_customers['Monetary'].sum()/df['Monetary'].sum()*100:.1f}%\")\n",
    "\n",
    "# Purchase frequency distribution\n",
    "avg_frequency = df['Frequency'].mean()\n",
    "print(f\"\\nAverage Purchase Frequency: {avg_frequency:.1f} purchases\")\n",
    "print(f\"Customers with >10 purchases: {len(df[df['Frequency'] > 10])} ({len(df[df['Frequency'] > 10])/len(df)*100:.1f}%)\")\n",
    "\n",
    "# Recency insights\n",
    "recent_customers = df[df['Recency'] < 30]\n",
    "dormant_customers = df[df['Recency'] > 180]\n",
    "print(f\"\\nRecent Customers (< 30 days): {len(recent_customers)} ({len(recent_customers)/len(df)*100:.1f}%)\")\n",
    "print(f\"Dormant Customers (> 180 days): {len(dormant_customers)} ({len(dormant_customers)/len(df)*100:.1f}%)\")\n",
    "\n",
    "# Tenure insights\n",
    "avg_tenure = df['TenureDays'].mean()\n",
    "print(f\"\\nAverage Customer Tenure: {avg_tenure:.0f} days ({avg_tenure/365:.1f} years)\")\n",
    "\n",
    "# Engagement\n",
    "avg_email_open = df['EmailOpenRate'].mean()\n",
    "print(f\"\\nAverage Email Open Rate: {avg_email_open*100:.1f}%\")\n",
    "\n",
    "print(\"\\n\" + \"=\"*80)"
   ]
  },
  {
   "cell_type": "markdown",
   "id": "47a5c2e8",
   "metadata": {},
   "source": [
    "## 7. Save Processed Data"
   ]
  },
  {
   "cell_type": "code",
   "execution_count": null,
   "id": "a3758844",
   "metadata": {},
   "outputs": [],
   "source": [
    "# Save the generated data\n",
    "loader.save_csv(df, 'customer_data.csv', subdirectory='synthetic')\n",
    "\n",
    "print(\"\\nData generation and exploration complete!\")\n",
    "print(f\"Data saved to: ../data/synthetic/customer_data.csv\")"
   ]
  }
 ],
 "metadata": {
  "language_info": {
   "name": "python"
  }
 },
 "nbformat": 4,
 "nbformat_minor": 5
}
